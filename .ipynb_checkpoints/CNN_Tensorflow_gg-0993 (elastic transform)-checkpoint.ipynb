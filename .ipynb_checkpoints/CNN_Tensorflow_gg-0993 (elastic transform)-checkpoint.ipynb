{
 "cells": [
  {
   "cell_type": "markdown",
   "metadata": {},
   "source": [
    "## TensorFlow CNN\n",
    "\n",
    "manuals:<br>\n",
    "https://www.tensorflow.org/versions/r0.7/tutorials/mnist/pros/index.html <br>\n",
    "https://www.kaggle.com/kakauandme/digit-recognizer/tensorflow-deep-nn/notebook<br>\n",
    "\n",
    "image transformation according to:<br>\n",
    "http://arxiv.org/pdf/1003.0358.pdf\n",
    "\n"
   ]
  },
  {
   "cell_type": "code",
   "execution_count": 1,
   "metadata": {
    "collapsed": false
   },
   "outputs": [],
   "source": [
    "from my_utils import *\n",
    "import numpy as np\n",
    "import pandas as pd\n",
    "\n",
    "%matplotlib inline\n",
    "import matplotlib.pyplot as plt\n",
    "import matplotlib.cm as cm\n",
    "\n",
    "import tensorflow as tf\n",
    "\n",
    "# settings\n",
    "LEARNING_RATE = 1e-4\n",
    "# set to 20000 on local environment to get 0.99 accuracy\n",
    "TRAINING_ITERATIONS = 20000        \n",
    "    \n",
    "DROPOUT = 0.5\n",
    "BATCH_SIZE = 50\n",
    "\n",
    "# set to 0 to train on all available data\n",
    "VALIDATION_SIZE = 2000\n",
    "\n",
    "# image number to output\n",
    "IMAGE_TO_DISPLAY = 10"
   ]
  },
  {
   "cell_type": "code",
   "execution_count": 2,
   "metadata": {
    "collapsed": false
   },
   "outputs": [
    {
     "name": "stdout",
     "output_type": "stream",
     "text": [
      "data(42000,785)\n",
      "   label  pixel0  pixel1  pixel2  pixel3  pixel4  pixel5  pixel6  pixel7  \\\n",
      "0      1       0       0       0       0       0       0       0       0   \n",
      "1      0       0       0       0       0       0       0       0       0   \n",
      "2      1       0       0       0       0       0       0       0       0   \n",
      "3      4       0       0       0       0       0       0       0       0   \n",
      "4      0       0       0       0       0       0       0       0       0   \n",
      "\n",
      "   pixel8    ...     pixel774  pixel775  pixel776  pixel777  pixel778  \\\n",
      "0       0    ...            0         0         0         0         0   \n",
      "1       0    ...            0         0         0         0         0   \n",
      "2       0    ...            0         0         0         0         0   \n",
      "3       0    ...            0         0         0         0         0   \n",
      "4       0    ...            0         0         0         0         0   \n",
      "\n",
      "   pixel779  pixel780  pixel781  pixel782  pixel783  \n",
      "0         0         0         0         0         0  \n",
      "1         0         0         0         0         0  \n",
      "2         0         0         0         0         0  \n",
      "3         0         0         0         0         0  \n",
      "4         0         0         0         0         0  \n",
      "\n",
      "[5 rows x 785 columns]\n"
     ]
    }
   ],
   "source": [
    "# read training data from CSV file \n",
    "data = pd.read_csv('input/train.csv')\n",
    "\n",
    "print('data({0[0]},{0[1]})'.format(data.shape))\n",
    "print (data.head())"
   ]
  },
  {
   "cell_type": "code",
   "execution_count": 3,
   "metadata": {
    "collapsed": false
   },
   "outputs": [
    {
     "name": "stdout",
     "output_type": "stream",
     "text": [
      "images(42000,784)\n"
     ]
    }
   ],
   "source": [
    "## Tranforming image from (0,255) scale to (0,1)\n",
    "\n",
    "images = data.iloc[:,1:].values\n",
    "images = images.astype(np.float)\n",
    "\n",
    "# convert from [0:255] => [0.0:1.0]\n",
    "images = np.multiply(images, 1.0 / 255.0)\n",
    "\n",
    "print('images({0[0]},{0[1]})'.format(images.shape))"
   ]
  },
  {
   "cell_type": "code",
   "execution_count": 4,
   "metadata": {
    "collapsed": false
   },
   "outputs": [
    {
     "name": "stdout",
     "output_type": "stream",
     "text": [
      "image_size => 784\n",
      "image_width => 28\n",
      "image_height => 28\n"
     ]
    }
   ],
   "source": [
    "## Calculating image size and image height from number of columns\n",
    "\n",
    "image_size = images.shape[1]\n",
    "print ('image_size => {0}'.format(image_size))\n",
    "\n",
    "# in this case all images are square\n",
    "image_width = image_height = np.ceil(np.sqrt(image_size)).astype(np.uint8)\n",
    "\n",
    "print ('image_width => {0}\\nimage_height => {1}'.format(image_width,image_height))"
   ]
  },
  {
   "cell_type": "code",
   "execution_count": 5,
   "metadata": {
    "collapsed": false
   },
   "outputs": [
    {
     "data": {
      "image/png": "[encoded data removed]",
      "text/plain": [
       "<matplotlib.figure.Figure at 0x7fa2abe55050>"
      ]
     },
     "metadata": {},
     "output_type": "display_data"
    }
   ],
   "source": [
    "def display(img):\n",
    "    \n",
    "    # (784) => (28,28)\n",
    "    one_image = img.reshape(image_width,image_height)\n",
    "    \n",
    "    plt.axis('off')\n",
    "    plt.imshow(one_image, cmap=cm.binary)\n",
    "\n",
    "# output image     \n",
    "display(images[IMAGE_TO_DISPLAY])"
   ]
  },
  {
   "cell_type": "code",
   "execution_count": 6,
   "metadata": {
    "collapsed": false
   },
   "outputs": [],
   "source": [
    "## doing elastic transform\n",
    "import cv2 \n",
    "\n",
    "\n",
    "## applying elastic erosions and transform\n",
    "##\n",
    "## img - should be matrix\n",
    "\n",
    "def apply_elastic_transform (img):   \n",
    "    \n",
    "    img_nes = elastic_transform (img, kernel_dim=17, sigma=6, alpha=9, negated=True)\n",
    "    return img_nes\n",
    "\n",
    "\n",
    "def do_all_img_transform (img):\n",
    "    \n",
    "    img = img.reshape(image_width,image_height)\n",
    "    res = apply_elastic_transform(img)\n",
    "    res = img_xy_scale (res)\n",
    "    res = crop_and_resize_img (res,image_width,image_height)\n",
    "    res = img_rotation(res)\n",
    "    res[res>0.5] = 1 \n",
    "    \n",
    "    kernel = np.zeros((3,3),np.uint8)\n",
    "    kernel[1,1] = 1\n",
    "    res = cv2.erode(res,kernel,iterations = 1)\n",
    "    \n",
    "    res = res.flatten()\n",
    "    \n",
    "    return res"
   ]
  },
  {
   "cell_type": "code",
   "execution_count": 7,
   "metadata": {
    "collapsed": false
   },
   "outputs": [
    {
     "data": {
      "image/png": "[encoded data removed]",
      "text/plain": [
       "<matplotlib.figure.Figure at 0x7fa2a20d8a50>"
      ]
     },
     "metadata": {},
     "output_type": "display_data"
    }
   ],
   "source": [
    "display(images[50])"
   ]
  },
  {
   "cell_type": "code",
   "execution_count": 8,
   "metadata": {
    "collapsed": false
   },
   "outputs": [
    {
     "data": {
      "image/png": "[encoded data removed]",
      "text/plain": [
       "<matplotlib.figure.Figure at 0x7fa2a2081090>"
      ]
     },
     "metadata": {},
     "output_type": "display_data"
    }
   ],
   "source": [
    "res = do_all_img_transform(images[50])\n",
    "display(res)\n"
   ]
  },
  {
   "cell_type": "code",
   "execution_count": 9,
   "metadata": {
    "collapsed": false
   },
   "outputs": [
    {
     "name": "stdout",
     "output_type": "stream",
     "text": [
      "labels_flat(42000)\n",
      "labels_flat[10] => 8\n"
     ]
    }
   ],
   "source": [
    "labels_flat = data[[0]].values.ravel()\n",
    "\n",
    "print('labels_flat({0})'.format(len(labels_flat)))\n",
    "print ('labels_flat[{0}] => {1}'.format(IMAGE_TO_DISPLAY,labels_flat[IMAGE_TO_DISPLAY]))"
   ]
  },
  {
   "cell_type": "code",
   "execution_count": 10,
   "metadata": {
    "collapsed": false
   },
   "outputs": [
    {
     "name": "stdout",
     "output_type": "stream",
     "text": [
      "labels_count => 10\n"
     ]
    }
   ],
   "source": [
    "labels_count = np.unique(labels_flat).shape[0]\n",
    "\n",
    "print('labels_count => {0}'.format(labels_count))"
   ]
  },
  {
   "cell_type": "code",
   "execution_count": 11,
   "metadata": {
    "collapsed": false
   },
   "outputs": [
    {
     "name": "stdout",
     "output_type": "stream",
     "text": [
      "labels(42000,10)\n",
      "labels[10] => [0 0 0 0 0 0 0 0 1 0]\n"
     ]
    }
   ],
   "source": [
    "# convert class labels from scalars to multinomial distribution\n",
    "# 1 => [0 1 0 0 0 0 0 0 0 0]\n",
    "# ...\n",
    "# 9 => [0 0 0 0 0 0 0 0 0 1]\n",
    "\n",
    "def dense_to_one_hot(labels_dense, num_classes):\n",
    "    num_labels = labels_dense.shape[0]\n",
    "    index_offset = np.arange(num_labels) * num_classes\n",
    "    labels_one_hot = np.zeros((num_labels, num_classes))\n",
    "    labels_one_hot.flat[index_offset + labels_dense.ravel()] = 1\n",
    "    return labels_one_hot\n",
    "\n",
    "labels = dense_to_one_hot(labels_flat, labels_count)\n",
    "labels = labels.astype(np.uint8)\n",
    "\n",
    "print('labels({0[0]},{0[1]})'.format(labels.shape))\n",
    "print ('labels[{0}] => {1}'.format(IMAGE_TO_DISPLAY,labels[IMAGE_TO_DISPLAY]))"
   ]
  },
  {
   "cell_type": "code",
   "execution_count": 12,
   "metadata": {
    "collapsed": false
   },
   "outputs": [
    {
     "name": "stdout",
     "output_type": "stream",
     "text": [
      "train_images(40000,784)\n",
      "validation_images(2000,784)\n"
     ]
    }
   ],
   "source": [
    "# split data into training & validation\n",
    "validation_images = images[:VALIDATION_SIZE]\n",
    "validation_labels = labels[:VALIDATION_SIZE]\n",
    "\n",
    "train_images = images[VALIDATION_SIZE:]\n",
    "train_labels = labels[VALIDATION_SIZE:]\n",
    "\n",
    "\n",
    "print('train_images({0[0]},{0[1]})'.format(train_images.shape))\n",
    "print('validation_images({0[0]},{0[1]})'.format(validation_images.shape))"
   ]
  },
  {
   "cell_type": "markdown",
   "metadata": {},
   "source": [
    "### Helper functions\n",
    "\n",
    "For this NN model, a lot of weights and biases are created. Generally, weights should be initialised with a small amount of noise for symmetry breaking, and to prevent 0 gradients.\n",
    "\n",
    "Since we are using ReLU neurones (ones that contain rectifier function f(x)=max(0,x)), it is also good practice to initialise them with a slightly positive initial bias to avoid \"dead neurones\"."
   ]
  },
  {
   "cell_type": "code",
   "execution_count": 13,
   "metadata": {
    "collapsed": true
   },
   "outputs": [],
   "source": [
    "# weight initialization\n",
    "def weight_variable(shape):\n",
    "    initial = tf.truncated_normal(shape, stddev=0.1)\n",
    "    return tf.Variable(initial)\n",
    "\n",
    "def bias_variable(shape):\n",
    "    initial = tf.constant(0.1, shape=shape)\n",
    "    return tf.Variable(initial)"
   ]
  },
  {
   "cell_type": "code",
   "execution_count": 14,
   "metadata": {
    "collapsed": true
   },
   "outputs": [],
   "source": [
    "# convolution\n",
    "def conv2d(x, W):\n",
    "    return tf.nn.conv2d(x, W, strides=[1, 1, 1, 1], padding='SAME')"
   ]
  },
  {
   "cell_type": "code",
   "execution_count": 15,
   "metadata": {
    "collapsed": true
   },
   "outputs": [],
   "source": [
    "# pooling\n",
    "# [[0,3],\n",
    "#  [4,2]] => 4\n",
    "\n",
    "# [[0,1],\n",
    "#  [1,1]] => 1\n",
    "\n",
    "def max_pool_2x2(x):\n",
    "    return tf.nn.max_pool(x, ksize=[1, 2, 2, 1], strides=[1, 2, 2, 1], padding='SAME')"
   ]
  },
  {
   "cell_type": "code",
   "execution_count": 16,
   "metadata": {
    "collapsed": false
   },
   "outputs": [],
   "source": [
    "# input & output of NN\n",
    "\n",
    "# images\n",
    "x = tf.placeholder('float', shape=[None, image_size])\n",
    "# labels\n",
    "y_ = tf.placeholder('float', shape=[None, labels_count])"
   ]
  },
  {
   "cell_type": "code",
   "execution_count": 17,
   "metadata": {
    "collapsed": true
   },
   "outputs": [],
   "source": [
    "# first convolutional layer\n",
    "W_conv1 = weight_variable([5, 5, 1, 32])\n",
    "b_conv1 = bias_variable([32])\n",
    "\n",
    "# (40000,784) => (40000,28,28,1)\n",
    "image = tf.reshape(x, [-1,image_width , image_height,1])\n",
    "#print (image.get_shape()) # =>(40000,28,28,1)\n",
    "\n",
    "\n",
    "h_conv1 = tf.nn.relu(conv2d(image, W_conv1) + b_conv1)\n",
    "#print (h_conv1.get_shape()) # => (40000, 28, 28, 32)\n",
    "h_pool1 = max_pool_2x2(h_conv1)\n",
    "#print (h_pool1.get_shape()) # => (40000, 14, 14, 32)\n",
    "\n",
    "\n",
    "# Prepare for visualization\n",
    "# display 32 features in 4 by 8 grid\n",
    "layer1 = tf.reshape(h_conv1, (-1, image_height, image_width, 4 ,8))  \n",
    "\n",
    "# reorder so the channels are in the first dimension, x and y follow.\n",
    "layer1 = tf.transpose(layer1, (0, 3, 1, 4,2))\n",
    "\n",
    "layer1 = tf.reshape(layer1, (-1, image_height*4, image_width*8)) "
   ]
  },
  {
   "cell_type": "code",
   "execution_count": 18,
   "metadata": {
    "collapsed": true
   },
   "outputs": [],
   "source": [
    "# second convolutional layer\n",
    "W_conv2 = weight_variable([5, 5, 32, 64])\n",
    "b_conv2 = bias_variable([64])\n",
    "\n",
    "h_conv2 = tf.nn.relu(conv2d(h_pool1, W_conv2) + b_conv2)\n",
    "#print (h_conv2.get_shape()) # => (40000, 14,14, 64)\n",
    "h_pool2 = max_pool_2x2(h_conv2)\n",
    "#print (h_pool2.get_shape()) # => (40000, 7, 7, 64)\n",
    "\n",
    "# Prepare for visualization\n",
    "# display 64 fetures in 4 by 16 grid\n",
    "layer2 = tf.reshape(h_conv2, (-1, 14, 14, 4 ,16))  \n",
    "\n",
    "# reorder so the channels are in the first dimension, x and y follow.\n",
    "layer2 = tf.transpose(layer2, (0, 3, 1, 4,2))\n",
    "\n",
    "layer2 = tf.reshape(layer2, (-1, 14*4, 14*16)) "
   ]
  },
  {
   "cell_type": "code",
   "execution_count": 19,
   "metadata": {
    "collapsed": true
   },
   "outputs": [],
   "source": [
    "# densely connected layer\n",
    "W_fc1 = weight_variable([7 * 7 * 64, 1024])\n",
    "b_fc1 = bias_variable([1024])\n",
    "\n",
    "# (40000, 7, 7, 64) => (40000, 3136)\n",
    "h_pool2_flat = tf.reshape(h_pool2, [-1, 7*7*64])\n",
    "\n",
    "h_fc1 = tf.nn.relu(tf.matmul(h_pool2_flat, W_fc1) + b_fc1)\n",
    "#print (h_fc1.get_shape()) # => (40000, 1024)"
   ]
  },
  {
   "cell_type": "code",
   "execution_count": 20,
   "metadata": {
    "collapsed": true
   },
   "outputs": [],
   "source": [
    "# dropout\n",
    "keep_prob = tf.placeholder(tf.float32)\n",
    "h_fc1_drop = tf.nn.dropout(h_fc1, keep_prob)"
   ]
  },
  {
   "cell_type": "code",
   "execution_count": 21,
   "metadata": {
    "collapsed": true
   },
   "outputs": [],
   "source": [
    "\n",
    "# readout layer for deep net\n",
    "W_fc2 = weight_variable([1024, labels_count])\n",
    "b_fc2 = bias_variable([labels_count])\n",
    "\n",
    "y = tf.nn.softmax(tf.matmul(h_fc1_drop, W_fc2) + b_fc2)\n",
    "\n",
    "#print (y.get_shape()) # => (40000, 10)"
   ]
  },
  {
   "cell_type": "code",
   "execution_count": 22,
   "metadata": {
    "collapsed": true
   },
   "outputs": [],
   "source": [
    "\n",
    "# cost function\n",
    "cross_entropy = -tf.reduce_sum(y_*tf.log(y + 1e-9))\n",
    "\n",
    "\n",
    "# optimisation function\n",
    "##train_step = tf.train.GradientDescentOptimizer(LEARNING_RATE).minimize(cross_entropy)\n",
    "train_step = tf.train.AdamOptimizer(1e-3).minimize(cross_entropy)\n",
    "\n",
    "\n",
    "# evaluation\n",
    "correct_prediction = tf.equal(tf.argmax(y,1), tf.argmax(y_,1))\n",
    "\n",
    "accuracy = tf.reduce_mean(tf.cast(correct_prediction, 'float'))"
   ]
  },
  {
   "cell_type": "markdown",
   "metadata": {},
   "source": [
    "### running Tensorflow session\n",
    "\n",
    "Original batch from manual"
   ]
  },
  {
   "cell_type": "code",
   "execution_count": 23,
   "metadata": {
    "collapsed": true
   },
   "outputs": [],
   "source": [
    "# prediction function\n",
    "#[0.1, 0.9, 0.2, 0.1, 0.1 0.3, 0.5, 0.1, 0.2, 0.3] => 1\n",
    "predict = tf.argmax(y,1)"
   ]
  },
  {
   "cell_type": "code",
   "execution_count": 24,
   "metadata": {
    "collapsed": false
   },
   "outputs": [],
   "source": [
    "epochs_completed = 0\n",
    "index_in_epoch = 0\n",
    "num_examples = train_images.shape[0]\n",
    "\n",
    "# serve data by batches\n",
    "def next_batch(batch_size):\n",
    "    \n",
    "    global train_images\n",
    "    global train_labels\n",
    "    global index_in_epoch\n",
    "    global epochs_completed\n",
    "    \n",
    "    start = index_in_epoch\n",
    "    index_in_epoch += batch_size\n",
    "    \n",
    "    # when all trainig data have been already used, it is reorder randomly    \n",
    "    if index_in_epoch > num_examples:\n",
    "        # finished epoch\n",
    "        epochs_completed += 1\n",
    "        # shuffle the data\n",
    "        perm = np.arange(num_examples)\n",
    "        np.random.shuffle(perm)\n",
    "        train_images = train_images[perm]\n",
    "        train_labels = train_labels[perm]\n",
    "        # start next epoch\n",
    "        start = 0\n",
    "        index_in_epoch = batch_size\n",
    "        assert batch_size <= num_examples\n",
    "    end = index_in_epoch\n",
    "    return train_images[start:end], train_labels[start:end]"
   ]
  },
  {
   "cell_type": "code",
   "execution_count": 25,
   "metadata": {
    "collapsed": false
   },
   "outputs": [
    {
     "data": {
      "image/png": "[encoded data removed]",
      "text/plain": [
       "<matplotlib.figure.Figure at 0x7fa2a2037090>"
      ]
     },
     "metadata": {},
     "output_type": "display_data"
    }
   ],
   "source": [
    "## Batch elastic transform test:\n",
    "\n",
    "batch = next_batch(50)\n",
    "display (batch[0][1])\n",
    "batch_new = np.array(map (do_all_img_transform,batch[0])), batch[1]"
   ]
  },
  {
   "cell_type": "code",
   "execution_count": 26,
   "metadata": {
    "collapsed": false,
    "scrolled": true
   },
   "outputs": [
    {
     "data": {
      "image/png": "[encoded data removed]",
      "text/plain": [
       "<matplotlib.figure.Figure at 0x7fa2a2017590>"
      ]
     },
     "metadata": {},
     "output_type": "display_data"
    }
   ],
   "source": [
    "display (batch_new[0][1])"
   ]
  },
  {
   "cell_type": "code",
   "execution_count": 27,
   "metadata": {
    "collapsed": false
   },
   "outputs": [],
   "source": [
    "# ## testing batch\n",
    "\n",
    "# def find_all_nan(btch_mat):\n",
    "#     return np.sum(np.isnan(btch_mat))\n",
    "\n",
    "# def find_all_nulls(btch_mat):\n",
    "#     return np.sum(btch_mat) == 0\n",
    "\n",
    "# tt = map (find_all_nan,batch[0])\n",
    "# mm = map (find_all_nulls,batch[0])\n",
    "# print (tt,mm)\n",
    "\n",
    "\n",
    "# figs, axes = plt.subplots(25,2, figsize=(20, 150))\n",
    "\n",
    "# for i in range(25):\n",
    "#     for j in range(2):\n",
    "        \n",
    "#         axes[i, j].set_title (\"X dist with Kernel\")\n",
    "#         img_def = batch[0][i*2+j].reshape (image_width, image_height) \n",
    "#         axes[i, j].imshow(img_def, cmap=cm.binary)\n",
    "\n"
   ]
  },
  {
   "cell_type": "code",
   "execution_count": 28,
   "metadata": {
    "collapsed": false
   },
   "outputs": [
    {
     "name": "stdout",
     "output_type": "stream",
     "text": [
      "step 0, training accuracy 0.08\n",
      "step 500, training accuracy 0.96\n",
      "step 1000, training accuracy 1\n",
      "step 1500, training accuracy 0.96\n",
      "step 2000, training accuracy 0.98\n",
      "step 2500, training accuracy 0.96\n",
      "step 3000, training accuracy 1\n",
      "step 3500, training accuracy 0.98\n",
      "step 4000, training accuracy 1\n",
      "step 4500, training accuracy 0.96\n",
      "step 5000, training accuracy 0.98\n",
      "step 5500, training accuracy 0.96\n",
      "step 6000, training accuracy 0.96\n",
      "step 6500, training accuracy 1\n",
      "step 7000, training accuracy 1\n",
      "step 7500, training accuracy 1\n",
      "step 8000, training accuracy 1\n",
      "step 8500, training accuracy 0.96\n",
      "step 9000, training accuracy 0.98\n",
      "step 9500, training accuracy 1\n",
      "step 10000, training accuracy 1\n",
      "step 10500, training accuracy 0.96\n",
      "step 11000, training accuracy 1\n",
      "step 11500, training accuracy 0.98\n",
      "step 12000, training accuracy 0.98\n",
      "step 12500, training accuracy 0.98\n",
      "step 13000, training accuracy 1\n",
      "step 13500, training accuracy 0.98\n",
      "step 14000, training accuracy 0.98\n",
      "step 14500, training accuracy 0.98\n",
      "step 15000, training accuracy 0.96\n",
      "step 15500, training accuracy 1\n",
      "step 16000, training accuracy 0.96\n",
      "step 16500, training accuracy 1\n",
      "step 17000, training accuracy 0.98\n",
      "step 17500, training accuracy 0.92\n",
      "step 18000, training accuracy 1\n",
      "step 18500, training accuracy 0.96\n",
      "step 19000, training accuracy 1\n",
      "step 19500, training accuracy 1\n",
      "step 20000, training accuracy 0.96\n",
      "step 20500, training accuracy 0.98\n",
      "step 21000, training accuracy 1\n",
      "step 21500, training accuracy 1\n",
      "step 22000, training accuracy 1\n",
      "step 22500, training accuracy 1\n",
      "step 23000, training accuracy 1\n",
      "step 23500, training accuracy 1\n",
      "step 24000, training accuracy 1\n",
      "step 24500, training accuracy 1\n",
      "step 25000, training accuracy 1\n",
      "step 25500, training accuracy 0.96\n",
      "step 26000, training accuracy 1\n",
      "step 26500, training accuracy 1\n",
      "step 27000, training accuracy 0.96\n",
      "step 27500, training accuracy 1\n",
      "step 28000, training accuracy 1\n",
      "step 28500, training accuracy 1\n",
      "step 29000, training accuracy 1\n",
      "step 29500, training accuracy 1\n",
      "step 30000, training accuracy 1\n",
      "step 30500, training accuracy 1\n",
      "step 31000, training accuracy 0.98\n",
      "step 31500, training accuracy 1\n",
      "step 32000, training accuracy 1\n",
      "step 32500, training accuracy 1\n",
      "step 33000, training accuracy 0.98\n",
      "step 33500, training accuracy 1\n",
      "step 34000, training accuracy 1\n",
      "step 34500, training accuracy 1\n",
      "step 35000, training accuracy 1\n",
      "step 35500, training accuracy 0.98\n",
      "step 36000, training accuracy 1\n",
      "step 36500, training accuracy 1\n",
      "step 37000, training accuracy 0.98\n",
      "step 37500, training accuracy 1\n",
      "step 38000, training accuracy 1\n",
      "step 38500, training accuracy 1\n",
      "step 39000, training accuracy 1\n",
      "step 39500, training accuracy 1\n",
      "step 40000, training accuracy 1\n",
      "step 40500, training accuracy 1\n",
      "step 41000, training accuracy 1\n",
      "step 41500, training accuracy 0.98\n",
      "step 42000, training accuracy 1\n",
      "step 42500, training accuracy 1\n",
      "step 43000, training accuracy 1\n",
      "step 43500, training accuracy 1\n",
      "step 44000, training accuracy 1\n",
      "step 44500, training accuracy 1\n",
      "step 45000, training accuracy 0.98\n",
      "step 45500, training accuracy 1\n",
      "step 46000, training accuracy 1\n",
      "step 46500, training accuracy 1\n",
      "step 47000, training accuracy 1\n",
      "step 47500, training accuracy 1\n",
      "step 48000, training accuracy 1\n",
      "step 48500, training accuracy 1\n",
      "step 49000, training accuracy 1\n",
      "step 49500, training accuracy 0.98\n",
      "step 50000, training accuracy 1\n",
      "step 50500, training accuracy 1\n",
      "step 51000, training accuracy 1\n",
      "step 51500, training accuracy 1\n",
      "step 52000, training accuracy 1\n",
      "step 52500, training accuracy 1\n",
      "step 53000, training accuracy 1\n",
      "step 53500, training accuracy 1\n",
      "step 54000, training accuracy 1\n",
      "step 54500, training accuracy 0.98\n",
      "step 55000, training accuracy 1\n",
      "step 55500, training accuracy 0.96\n",
      "step 56000, training accuracy 1\n",
      "step 56500, training accuracy 1\n",
      "step 57000, training accuracy 1\n",
      "step 57500, training accuracy 0.98\n",
      "step 58000, training accuracy 1\n",
      "step 58500, training accuracy 1\n",
      "step 59000, training accuracy 1\n",
      "step 59500, training accuracy 1\n",
      "step 60000, training accuracy 1\n",
      "step 60500, training accuracy 1\n",
      "step 61000, training accuracy 1\n",
      "step 61500, training accuracy 1\n",
      "step 62000, training accuracy 1\n",
      "step 62500, training accuracy 1\n",
      "step 63000, training accuracy 1\n",
      "step 63500, training accuracy 1\n",
      "step 64000, training accuracy 1\n",
      "step 64500, training accuracy 1\n",
      "step 65000, training accuracy 1\n",
      "step 65500, training accuracy 0.98\n",
      "step 66000, training accuracy 1\n",
      "step 66500, training accuracy 1\n",
      "step 67000, training accuracy 1\n",
      "step 67500, training accuracy 0.98\n",
      "step 68000, training accuracy 1\n",
      "step 68500, training accuracy 1\n",
      "step 69000, training accuracy 1\n",
      "step 69500, training accuracy 1\n",
      "step 70000, training accuracy 1\n",
      "step 70500, training accuracy 1\n",
      "step 71000, training accuracy 1\n",
      "step 71500, training accuracy 0.98\n",
      "step 72000, training accuracy 1\n",
      "step 72500, training accuracy 1\n",
      "step 73000, training accuracy 1\n",
      "step 73500, training accuracy 1\n",
      "step 74000, training accuracy 0.98\n",
      "step 74500, training accuracy 1\n",
      "step 75000, training accuracy 1\n",
      "step 75500, training accuracy 1\n",
      "step 76000, training accuracy 1\n",
      "step 76500, training accuracy 1\n",
      "step 77000, training accuracy 1\n",
      "step 77500, training accuracy 0.98\n",
      "step 78000, training accuracy 0.98\n",
      "step 78500, training accuracy 1\n",
      "step 79000, training accuracy 1\n",
      "step 79500, training accuracy 1\n",
      "step 80000, training accuracy 1\n",
      "step 80500, training accuracy 1\n",
      "step 81000, training accuracy 1\n",
      "step 81500, training accuracy 0.98\n",
      "step 82000, training accuracy 0.98\n",
      "step 82500, training accuracy 1\n",
      "step 83000, training accuracy 1\n",
      "step 83500, training accuracy 1\n",
      "step 84000, training accuracy 1\n",
      "step 84500, training accuracy 1\n",
      "step 85000, training accuracy 1\n",
      "step 85500, training accuracy 1\n",
      "step 86000, training accuracy 0.98\n",
      "step 86500, training accuracy 0.96\n",
      "step 87000, training accuracy 1\n",
      "step 87500, training accuracy 0.98\n",
      "step 88000, training accuracy 0.98\n",
      "step 88500, training accuracy 1\n",
      "step 89000, training accuracy 1\n",
      "step 89500, training accuracy 0.98\n",
      "step 90000, training accuracy 1\n",
      "step 90500, training accuracy 1\n",
      "step 91000, training accuracy 0.98\n",
      "step 91500, training accuracy 1\n",
      "step 92000, training accuracy 1\n",
      "step 92500, training accuracy 0.98\n",
      "step 93000, training accuracy 0.98\n",
      "step 93500, training accuracy 1\n",
      "step 94000, training accuracy 1\n",
      "step 94500, training accuracy 0.98\n",
      "step 95000, training accuracy 1\n",
      "step 95500, training accuracy 1\n",
      "step 96000, training accuracy 1\n",
      "step 96500, training accuracy 1\n",
      "step 97000, training accuracy 1\n",
      "step 97500, training accuracy 1\n",
      "step 98000, training accuracy 1\n",
      "step 98500, training accuracy 1\n",
      "step 99000, training accuracy 1\n",
      "step 99500, training accuracy 0.98\n",
      "step 100000, training accuracy 1\n",
      "step 100500, training accuracy 1\n",
      "step 101000, training accuracy 1\n",
      "step 101500, training accuracy 0.98\n",
      "step 102000, training accuracy 0.98\n",
      "step 102500, training accuracy 1\n",
      "step 103000, training accuracy 1\n",
      "step 103500, training accuracy 1\n",
      "step 104000, training accuracy 1\n",
      "step 104500, training accuracy 1\n",
      "step 105000, training accuracy 1\n",
      "step 105500, training accuracy 0.98\n",
      "step 106000, training accuracy 1\n",
      "step 106500, training accuracy 1\n",
      "step 107000, training accuracy 1\n",
      "step 107500, training accuracy 1\n",
      "step 108000, training accuracy 0.98\n",
      "step 108500, training accuracy 1\n",
      "step 109000, training accuracy 0.98\n",
      "step 109500, training accuracy 1\n",
      "step 110000, training accuracy 0.98\n",
      "step 110500, training accuracy 0.98\n",
      "step 111000, training accuracy 1\n",
      "step 111500, training accuracy 1\n",
      "step 112000, training accuracy 1\n",
      "step 112500, training accuracy 0.96\n",
      "step 113000, training accuracy 1\n",
      "step 113500, training accuracy 1\n",
      "step 114000, training accuracy 1\n",
      "step 114500, training accuracy 1\n",
      "step 115000, training accuracy 1\n",
      "step 115500, training accuracy 1\n",
      "step 116000, training accuracy 1\n",
      "step 116500, training accuracy 1\n",
      "step 117000, training accuracy 1\n",
      "step 117500, training accuracy 1\n",
      "step 118000, training accuracy 1\n",
      "step 118500, training accuracy 1\n",
      "step 119000, training accuracy 1\n",
      "step 119500, training accuracy 0.98\n",
      "step 120000, training accuracy 1\n",
      "step 120500, training accuracy 0.98\n",
      "step 121000, training accuracy 1\n",
      "step 121500, training accuracy 0.98\n",
      "step 122000, training accuracy 1\n",
      "step 122500, training accuracy 1\n",
      "step 123000, training accuracy 1\n",
      "step 123500, training accuracy 0.96\n",
      "step 124000, training accuracy 1\n",
      "step 124500, training accuracy 0.96\n",
      "step 125000, training accuracy 1\n",
      "step 125500, training accuracy 1\n",
      "step 126000, training accuracy 1\n",
      "step 126500, training accuracy 1\n",
      "step 127000, training accuracy 1\n",
      "step 127500, training accuracy 1\n",
      "step 128000, training accuracy 1\n",
      "step 128500, training accuracy 1\n",
      "step 129000, training accuracy 0.98\n",
      "step 129500, training accuracy 0.98\n",
      "step 130000, training accuracy 1\n",
      "step 130500, training accuracy 1\n",
      "step 131000, training accuracy 1\n",
      "step 131500, training accuracy 0.98\n",
      "step 132000, training accuracy 0.98\n",
      "step 132500, training accuracy 1\n",
      "step 133000, training accuracy 1\n",
      "step 133500, training accuracy 0.98\n",
      "step 134000, training accuracy 1\n",
      "step 134500, training accuracy 1\n",
      "step 135000, training accuracy 1\n",
      "step 135500, training accuracy 1\n",
      "step 136000, training accuracy 1\n",
      "step 136500, training accuracy 1\n",
      "step 137000, training accuracy 1\n",
      "step 137500, training accuracy 1\n",
      "step 138000, training accuracy 0.98\n",
      "step 138500, training accuracy 1\n",
      "step 139000, training accuracy 1\n",
      "step 139500, training accuracy 1\n",
      "step 140000, training accuracy 1\n",
      "step 140500, training accuracy 1\n",
      "step 141000, training accuracy 1\n",
      "step 141500, training accuracy 0.98\n",
      "step 142000, training accuracy 1\n",
      "step 142500, training accuracy 1\n",
      "step 143000, training accuracy 1\n",
      "step 143500, training accuracy 1\n",
      "step 144000, training accuracy 1\n",
      "step 144500, training accuracy 1\n",
      "step 145000, training accuracy 0.98\n",
      "step 145500, training accuracy 1\n",
      "step 146000, training accuracy 1\n",
      "step 146500, training accuracy 1\n",
      "step 147000, training accuracy 1\n",
      "step 147500, training accuracy 1\n",
      "step 148000, training accuracy 1\n",
      "step 148500, training accuracy 0.98\n",
      "step 149000, training accuracy 1\n",
      "step 149500, training accuracy 1\n",
      "step 150000, training accuracy 0.98\n",
      "step 150500, training accuracy 1\n",
      "step 151000, training accuracy 1\n",
      "step 151500, training accuracy 1\n",
      "step 152000, training accuracy 1\n",
      "step 152500, training accuracy 1\n",
      "step 153000, training accuracy 0.98\n",
      "step 153500, training accuracy 1\n",
      "step 154000, training accuracy 1\n",
      "step 154500, training accuracy 0.98\n",
      "step 155000, training accuracy 0.98\n",
      "step 155500, training accuracy 1\n",
      "step 156000, training accuracy 0.98\n",
      "step 156500, training accuracy 1\n",
      "step 157000, training accuracy 1\n",
      "step 157500, training accuracy 1\n",
      "step 158000, training accuracy 1\n",
      "step 158500, training accuracy 1\n",
      "step 159000, training accuracy 1\n",
      "step 159500, training accuracy 1\n",
      "step 160000, training accuracy 1\n",
      "step 160500, training accuracy 1\n",
      "step 161000, training accuracy 0.96\n",
      "step 161500, training accuracy 0.98\n",
      "step 162000, training accuracy 1\n",
      "step 162500, training accuracy 1\n",
      "step 163000, training accuracy 1\n",
      "step 163500, training accuracy 1\n",
      "step 164000, training accuracy 1\n",
      "step 164500, training accuracy 1\n",
      "step 165000, training accuracy 0.98\n",
      "step 165500, training accuracy 1\n",
      "step 166000, training accuracy 1\n",
      "step 166500, training accuracy 1\n",
      "step 167000, training accuracy 1\n",
      "step 167500, training accuracy 1\n",
      "step 168000, training accuracy 1\n",
      "step 168500, training accuracy 1\n",
      "step 169000, training accuracy 1\n",
      "step 169500, training accuracy 0.96\n",
      "step 170000, training accuracy 1\n",
      "step 170500, training accuracy 1\n",
      "step 171000, training accuracy 1\n",
      "step 171500, training accuracy 1\n",
      "step 172000, training accuracy 1\n",
      "step 172500, training accuracy 1\n",
      "step 173000, training accuracy 1\n",
      "step 173500, training accuracy 1\n",
      "step 174000, training accuracy 1\n",
      "step 174500, training accuracy 1\n",
      "step 175000, training accuracy 1\n",
      "step 175500, training accuracy 1\n",
      "step 176000, training accuracy 1\n",
      "step 176500, training accuracy 1\n",
      "step 177000, training accuracy 1\n",
      "step 177500, training accuracy 1\n",
      "step 178000, training accuracy 1\n",
      "step 178500, training accuracy 1\n",
      "step 179000, training accuracy 1\n",
      "step 179500, training accuracy 1\n",
      "step 180000, training accuracy 1\n",
      "step 180500, training accuracy 0.96\n",
      "step 181000, training accuracy 1\n",
      "step 181500, training accuracy 1\n",
      "step 182000, training accuracy 0.98\n",
      "step 182500, training accuracy 1\n",
      "step 183000, training accuracy 1\n",
      "step 183500, training accuracy 0.98\n",
      "step 184000, training accuracy 1\n",
      "step 184500, training accuracy 1\n",
      "step 185000, training accuracy 0.98\n",
      "step 185500, training accuracy 1\n",
      "step 186000, training accuracy 1\n",
      "step 186500, training accuracy 1\n",
      "step 187000, training accuracy 1\n",
      "step 187500, training accuracy 1\n",
      "step 188000, training accuracy 1\n",
      "step 188500, training accuracy 1\n",
      "step 189000, training accuracy 1\n",
      "step 189500, training accuracy 1\n",
      "step 190000, training accuracy 1\n",
      "step 190500, training accuracy 1\n",
      "step 191000, training accuracy 1\n",
      "step 191500, training accuracy 0.98\n",
      "step 192000, training accuracy 1\n",
      "step 192500, training accuracy 0.98\n",
      "step 193000, training accuracy 1\n",
      "step 193500, training accuracy 1\n",
      "step 194000, training accuracy 1\n",
      "step 194500, training accuracy 1\n",
      "step 195000, training accuracy 1\n",
      "step 195500, training accuracy 1\n",
      "step 196000, training accuracy 1\n",
      "step 196500, training accuracy 0.98\n",
      "step 197000, training accuracy 1\n",
      "step 197500, training accuracy 1\n",
      "step 198000, training accuracy 1\n",
      "step 198500, training accuracy 1\n",
      "step 199000, training accuracy 1\n",
      "step 199500, training accuracy 1\n"
     ]
    }
   ],
   "source": [
    "# start TensorFlow session\n",
    "init = tf.initialize_all_variables()\n",
    "sess = tf.InteractiveSession()\n",
    "\n",
    "sess.run(init)\n",
    "\n",
    "\n",
    "for i in range(200000):\n",
    "\n",
    "  batch = next_batch(50) \n",
    "  batch = np.array(map (do_all_img_transform,batch[0])), batch[1]\n",
    "\n",
    "    \n",
    "\n",
    "  if i%500 == 0:\n",
    "    train_accuracy = accuracy.eval(feed_dict={\n",
    "        x:batch[0], y_: batch[1], keep_prob: 1.0})\n",
    "    print(\"step %d, training accuracy %g\"%(i, train_accuracy))\n",
    "  ## train_step.run(feed_dict={x: batch[0], y_: batch[1], keep_prob: 0.5})\n",
    "  sess.run(train_step, feed_dict={x: batch[0], y_: batch[1], keep_prob: DROPOUT})\n",
    "\n",
    "    \n",
    "# print(\"test accuracy %g\"%accuracy.eval(feed_dict={\n",
    "# x: mnist.test.images, y_: mnist.test.labels, keep_prob: 1.0}))"
   ]
  },
  {
   "cell_type": "code",
   "execution_count": 29,
   "metadata": {
    "collapsed": false
   },
   "outputs": [
    {
     "name": "stdout",
     "output_type": "stream",
     "text": [
      "test_images(28000,784)\n",
      "predicted_lables(28000)\n",
      "predicted_lables[10] => 5.0\n"
     ]
    },
    {
     "data": {
      "image/png": "[encoded data removed]",
      "text/plain": [
       "<matplotlib.figure.Figure at 0x7fa2a1cf3910>"
      ]
     },
     "metadata": {},
     "output_type": "display_data"
    }
   ],
   "source": [
    "# read test data from CSV file \n",
    "test_images = pd.read_csv('input/test.csv').values\n",
    "test_images = test_images.astype(np.float)\n",
    "\n",
    "# convert from [0:255] => [0.0:1.0]\n",
    "test_images = np.multiply(test_images, 1.0 / 255.0)\n",
    "\n",
    "print('test_images({0[0]},{0[1]})'.format(test_images.shape))\n",
    "\n",
    "\n",
    "# predict test set\n",
    "#predicted_lables = predict.eval(feed_dict={x: test_images, keep_prob: 1.0})\n",
    "\n",
    "# using batches is more resource efficient\n",
    "predicted_lables = np.zeros(test_images.shape[0])\n",
    "for i in range(0,test_images.shape[0]//BATCH_SIZE):\n",
    "    predicted_lables[i*BATCH_SIZE : (i+1)*BATCH_SIZE] = predict.eval(feed_dict={x: test_images[i*BATCH_SIZE : (i+1)*BATCH_SIZE], \n",
    "                                                                                keep_prob: 1.0})\n",
    "\n",
    "\n",
    "print('predicted_lables({0})'.format(len(predicted_lables)))\n",
    "\n",
    "# output test image and prediction\n",
    "display(test_images[IMAGE_TO_DISPLAY])\n",
    "print ('predicted_lables[{0}] => {1}'.format(IMAGE_TO_DISPLAY,predicted_lables[IMAGE_TO_DISPLAY]))\n",
    "\n",
    "# save results\n",
    "np.savetxt('output/result.csv', \n",
    "           np.c_[range(1,len(test_images)+1),predicted_lables], \n",
    "           delimiter=',', \n",
    "           header = 'ImageId,Label', \n",
    "           comments = '', \n",
    "           fmt='%d')"
   ]
  },
  {
   "cell_type": "code",
   "execution_count": 30,
   "metadata": {
    "collapsed": false
   },
   "outputs": [
    {
     "data": {
      "text/plain": [
       "<matplotlib.image.AxesImage at 0x7fa2a20c7790>"
      ]
     },
     "execution_count": 30,
     "metadata": {},
     "output_type": "execute_result"
    },
    {
     "data": {
      "image/png": "[encoded data removed]",
      "text/plain": [
       "<matplotlib.figure.Figure at 0x7fa2a213d510>"
      ]
     },
     "metadata": {},
     "output_type": "display_data"
    }
   ],
   "source": [
    "layer1_grid = layer1.eval(feed_dict={x: test_images[IMAGE_TO_DISPLAY:IMAGE_TO_DISPLAY+1], keep_prob: 1.0})\n",
    "plt.axis('off')\n",
    "plt.imshow(layer1_grid[0], cmap=cm.seismic )"
   ]
  },
  {
   "cell_type": "code",
   "execution_count": 336,
   "metadata": {
    "collapsed": true
   },
   "outputs": [],
   "source": [
    "sess.close()\n"
   ]
  },
  {
   "cell_type": "code",
   "execution_count": null,
   "metadata": {
    "collapsed": true
   },
   "outputs": [],
   "source": []
  }
 ],
 "metadata": {
  "kernelspec": {
   "display_name": "Python 2",
   "language": "python",
   "name": "python2"
  },
  "language_info": {
   "codemirror_mode": {
    "name": "ipython",
    "version": 2
   },
   "file_extension": ".py",
   "mimetype": "text/x-python",
   "name": "python",
   "nbconvert_exporter": "python",
   "pygments_lexer": "ipython2",
   "version": "2.7.11"
  }
 },
 "nbformat": 4,
 "nbformat_minor": 0
}
