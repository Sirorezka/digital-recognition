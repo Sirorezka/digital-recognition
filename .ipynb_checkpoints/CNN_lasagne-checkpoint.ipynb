{
 "cells": [
  {
   "cell_type": "markdown",
   "metadata": {},
   "source": [
    "## Lasagne Neural Network\n",
    "\n",
    "sources:<br>\n",
    "http://yann.lecun.com/exdb/mnist/  <br>\n",
    "https://www.kaggle.com/kobakhit/digit-recognizer/digit-recognizer-in-python-using-cnn <br>\n",
    "http://lasagne.readthedocs.org/en/latest/user/tutorial.html#run-the-mnist-example <br>\n",
    "http://nbviewer.jupyter.org/github/dnouri/nolearn/blob/master/docs/notebooks/CNN_tutorial.ipynb <br>\n"
   ]
  },
  {
   "cell_type": "code",
   "execution_count": 17,
   "metadata": {
    "collapsed": true
   },
   "outputs": [],
   "source": [
    "from sklearn.ensemble import RandomForestClassifier\n",
    "import numpy as np\n",
    "import pandas as pd\n",
    "\n",
    "# create the training & test sets, skipping the header row with [1:]\n",
    "dataset = pd.read_csv(\"input/train.csv\")\n",
    "target = dataset[[0]].values.ravel()\n",
    "train = dataset.iloc[:,1:].values\n",
    "test = pd.read_csv(\"input/test.csv\").values\n"
   ]
  },
  {
   "cell_type": "code",
   "execution_count": 18,
   "metadata": {
    "collapsed": true
   },
   "outputs": [],
   "source": [
    "DO_RANDOM_FOREST = False\n",
    "\n",
    "if DO_RANDOM_FOREST:\n",
    "    # create and train the random forest\n",
    "    # multi-core CPUs can use: rf = RandomForestClassifier(n_estimators=100, n_jobs=2)\n",
    "    rf = RandomForestClassifier(n_estimators=100, n_jobs=-1)\n",
    "    rf.fit(train, target)\n",
    "    pred = rf.predict(test)\n",
    "\n",
    "    np.savetxt('output/submission_rand_forest.csv', np.c_[range(1,len(test)+1),pred], delimiter=',', header = 'ImageId,Label', comments = '', fmt='%d')"
   ]
  },
  {
   "cell_type": "code",
   "execution_count": 19,
   "metadata": {
    "collapsed": false
   },
   "outputs": [
    {
     "name": "stdout",
     "output_type": "stream",
     "text": [
      "   label  pixel0  pixel1  pixel2  pixel3  pixel4  pixel5  pixel6  pixel7  \\\n",
      "0      1       0       0       0       0       0       0       0       0   \n",
      "1      0       0       0       0       0       0       0       0       0   \n",
      "2      1       0       0       0       0       0       0       0       0   \n",
      "3      4       0       0       0       0       0       0       0       0   \n",
      "4      0       0       0       0       0       0       0       0       0   \n",
      "\n",
      "   pixel8    ...     pixel774  pixel775  pixel776  pixel777  pixel778  \\\n",
      "0       0    ...            0         0         0         0         0   \n",
      "1       0    ...            0         0         0         0         0   \n",
      "2       0    ...            0         0         0         0         0   \n",
      "3       0    ...            0         0         0         0         0   \n",
      "4       0    ...            0         0         0         0         0   \n",
      "\n",
      "   pixel779  pixel780  pixel781  pixel782  pixel783  \n",
      "0         0         0         0         0         0  \n",
      "1         0         0         0         0         0  \n",
      "2         0         0         0         0         0  \n",
      "3         0         0         0         0         0  \n",
      "4         0         0         0         0         0  \n",
      "\n",
      "[5 rows x 785 columns]\n"
     ]
    }
   ],
   "source": [
    "print(dataset.head())\n"
   ]
  },
  {
   "cell_type": "code",
   "execution_count": 20,
   "metadata": {
    "collapsed": true
   },
   "outputs": [],
   "source": [
    "# convert to array, specify data type, and reshape\n",
    "target = target.astype(np.uint8)\n",
    "train = np.array(train).reshape((-1, 1, 28, 28)).astype(np.uint8)\n",
    "test = np.array(test).reshape((-1, 1, 28, 28)).astype(np.uint8)"
   ]
  },
  {
   "cell_type": "code",
   "execution_count": 21,
   "metadata": {
    "collapsed": false
   },
   "outputs": [
    {
     "data": {
      "text/plain": [
       "<matplotlib.image.AxesImage at 0x7f918c890490>"
      ]
     },
     "execution_count": 21,
     "metadata": {},
     "output_type": "execute_result"
    },
    {
     "data": {
      "image/png": "[encoded data removed]",
      "text/plain": [
       "<matplotlib.figure.Figure at 0x7f91a827ba90>"
      ]
     },
     "metadata": {},
     "output_type": "display_data"
    }
   ],
   "source": [
    "%matplotlib inline\n",
    "import matplotlib.pyplot as plt\n",
    "import matplotlib.cm as cm\n",
    "\n",
    "plt.imshow(train[1729][0], cmap=cm.binary) # draw the picture"
   ]
  },
  {
   "cell_type": "code",
   "execution_count": 35,
   "metadata": {
    "collapsed": false
   },
   "outputs": [],
   "source": [
    "import lasagne\n",
    "from lasagne import layers\n",
    "from lasagne.updates import nesterov_momentum\n",
    "from nolearn.lasagne import NeuralNet\n",
    "from nolearn.lasagne import visualize\n",
    "\n",
    "net1 = NeuralNet(\n",
    "        layers=[('input', layers.InputLayer),\n",
    "                ('dropout1', layers.DropoutLayer),\n",
    "                ('hidden1', layers.DenseLayer),\n",
    "                ('dropout2', layers.DropoutLayer),\n",
    "                ('hidden2', layers.DenseLayer),\n",
    "                ('dropout3', layers.DropoutLayer),\n",
    "                ('output', layers.DenseLayer),\n",
    "                ],\n",
    "        # layer parameters:\n",
    "        input_shape=(None,1,28,28),\n",
    "        dropout1_p=0.2,\n",
    "        hidden1_num_units=1000, # number of units in 'hidden' layer\n",
    "        hidden1_nonlinearity=lasagne.nonlinearities.rectify,\n",
    "    \n",
    "        dropout2_p=0.2,\n",
    "        hidden2_num_units=800, # number of units in 'hidden' layer\n",
    "        hidden2_nonlinearity=lasagne.nonlinearities.rectify,\n",
    "    \n",
    "        dropout3_p=0.2,\n",
    "    \n",
    "        output_nonlinearity=lasagne.nonlinearities.softmax,\n",
    "        output_num_units=10,  # 10 target values for the digits 0, 1, 2, ..., 9\n",
    "\n",
    "    \n",
    "        # optimization method:\n",
    "        update=nesterov_momentum,\n",
    "        update_learning_rate=0.0001,\n",
    "        update_momentum=0.9,\n",
    "\n",
    "        max_epochs=35,\n",
    "        verbose=1,\n",
    "        )"
   ]
  },
  {
   "cell_type": "code",
   "execution_count": 36,
   "metadata": {
    "collapsed": false
   },
   "outputs": [
    {
     "name": "stdout",
     "output_type": "stream",
     "text": [
      "# Neural Network with 1593810 learnable parameters\n",
      "\n",
      "## Layer information\n",
      "\n",
      "  #  name      size\n",
      "---  --------  -------\n",
      "  0  input     1x28x28\n",
      "  1  dropout1  1x28x28\n",
      "  2  hidden1   1000\n",
      "  3  dropout2  1000\n",
      "  4  hidden2   800\n",
      "  5  dropout3  800\n",
      "  6  output    10\n",
      "\n",
      "  epoch    train loss    valid loss    train/val    valid acc  dur\n",
      "-------  ------------  ------------  -----------  -----------  -----\n",
      "      1       \u001b[36m8.75412\u001b[0m       \u001b[32m1.00177\u001b[0m      8.73863      0.92329  5.59s\n",
      "      2       \u001b[36m2.14252\u001b[0m       \u001b[32m0.56566\u001b[0m      3.78764      0.93442  5.48s\n",
      "      3       \u001b[36m1.43300\u001b[0m       \u001b[32m0.41815\u001b[0m      3.42698      0.93667  5.51s\n",
      "      4       \u001b[36m1.09997\u001b[0m       \u001b[32m0.31449\u001b[0m      3.49760      0.93909  5.62s\n",
      "      5       \u001b[36m0.88205\u001b[0m       \u001b[32m0.27186\u001b[0m      3.24454      0.93850  5.85s\n",
      "      6       \u001b[36m0.71663\u001b[0m       \u001b[32m0.24026\u001b[0m      2.98274      0.93957  5.75s\n",
      "      7       \u001b[36m0.63461\u001b[0m       \u001b[32m0.21637\u001b[0m      2.93295      0.94525  5.63s\n",
      "      8       \u001b[36m0.58310\u001b[0m       \u001b[32m0.20897\u001b[0m      2.79031      0.94448  5.67s\n",
      "      9       \u001b[36m0.51832\u001b[0m       \u001b[32m0.19633\u001b[0m      2.64001      0.94750  5.69s\n",
      "     10       \u001b[36m0.48742\u001b[0m       0.19745      2.46858      0.94560  5.82s\n",
      "     11       \u001b[36m0.44576\u001b[0m       \u001b[32m0.19309\u001b[0m      2.30859      0.94898  5.93s\n",
      "     12       \u001b[36m0.42204\u001b[0m       \u001b[32m0.18325\u001b[0m      2.30308      0.95058  5.73s\n",
      "     13       \u001b[36m0.41004\u001b[0m       \u001b[32m0.18099\u001b[0m      2.26551      0.95004  6.07s\n",
      "     14       \u001b[36m0.36723\u001b[0m       \u001b[32m0.17512\u001b[0m      2.09708      0.95123  5.81s\n",
      "     15       \u001b[36m0.36403\u001b[0m       \u001b[32m0.17127\u001b[0m      2.12547      0.95318  6.46s\n",
      "     16       \u001b[36m0.34630\u001b[0m       \u001b[32m0.16990\u001b[0m      2.03825      0.95277  6.36s\n",
      "     17       \u001b[36m0.33169\u001b[0m       \u001b[32m0.16376\u001b[0m      2.02539      0.95152  6.27s\n",
      "     18       \u001b[36m0.31949\u001b[0m       \u001b[32m0.15897\u001b[0m      2.00982      0.95549  6.07s\n",
      "     19       \u001b[36m0.30970\u001b[0m       0.16088      1.92506      0.95194  6.01s\n",
      "     20       \u001b[36m0.30436\u001b[0m       \u001b[32m0.15553\u001b[0m      1.95684      0.95620  6.10s\n",
      "     21       \u001b[36m0.29766\u001b[0m       0.15655      1.90137      0.95401  5.84s\n",
      "     22       \u001b[36m0.28384\u001b[0m       \u001b[32m0.14916\u001b[0m      1.90294      0.95502  5.87s\n",
      "     23       \u001b[36m0.27225\u001b[0m       \u001b[32m0.14788\u001b[0m      1.84100      0.95632  5.82s\n",
      "     24       0.27479       \u001b[32m0.14300\u001b[0m      1.92164      0.95904  5.83s\n",
      "     25       \u001b[36m0.26645\u001b[0m       \u001b[32m0.14169\u001b[0m      1.88061      0.96005  5.83s\n",
      "     26       \u001b[36m0.25670\u001b[0m       \u001b[32m0.14040\u001b[0m      1.82828      0.95957  5.68s\n",
      "     27       \u001b[36m0.24303\u001b[0m       \u001b[32m0.13584\u001b[0m      1.78916      0.96052  5.54s\n",
      "     28       0.24578       0.13646      1.80121      0.96022  5.57s\n",
      "     29       \u001b[36m0.23533\u001b[0m       \u001b[32m0.13523\u001b[0m      1.74029      0.96099  5.59s\n",
      "     30       0.23978       \u001b[32m0.13351\u001b[0m      1.79595      0.96129  5.56s\n",
      "     31       \u001b[36m0.23477\u001b[0m       \u001b[32m0.13054\u001b[0m      1.79842      0.96147  5.55s\n",
      "     32       \u001b[36m0.22981\u001b[0m       \u001b[32m0.12886\u001b[0m      1.78346      0.96135  5.58s\n",
      "     33       \u001b[36m0.22750\u001b[0m       0.13025      1.74662      0.96147  5.66s\n",
      "     34       \u001b[36m0.22342\u001b[0m       \u001b[32m0.12834\u001b[0m      1.74083      0.96312  5.78s\n",
      "     35       \u001b[36m0.22295\u001b[0m       \u001b[32m0.12548\u001b[0m      1.77687      0.96372  5.77s\n"
     ]
    },
    {
     "data": {
      "text/plain": [
       "NeuralNet(X_tensor_type=None,\n",
       "     batch_iterator_test=<nolearn.lasagne.base.BatchIterator object at 0x7f9194248a10>,\n",
       "     batch_iterator_train=<nolearn.lasagne.base.BatchIterator object at 0x7f91942488d0>,\n",
       "     custom_scores=None, dropout1_p=0.2, dropout2_p=0.2, dropout3_p=0.2,\n",
       "     hidden1_nonlinearity=<function rectify at 0x7f91944c4410>,\n",
       "     hidden1_num_units=1000,\n",
       "     hidden2_nonlinearity=<function rectify at 0x7f91944c4410>,\n",
       "     hidden2_num_units=800, input_shape=(None, 1, 28, 28),\n",
       "     layers=[('input', <class 'lasagne.layers.input.InputLayer'>), ('dropout1', <class 'lasagne.layers.noise.DropoutLayer'>), ('hidden1', <class 'lasagne.layers.dense.DenseLayer'>), ('dropout2', <class 'lasagne.layers.noise.DropoutLayer'>), ('hidden2', <class 'lasagne.layers.dense.DenseLayer'>), ('dropout3', <class 'lasagne.layers.noise.DropoutLayer'>), ('output', <class 'lasagne.layers.dense.DenseLayer'>)],\n",
       "     loss=None, max_epochs=35, more_params={},\n",
       "     objective=<function objective at 0x7f919423ded8>,\n",
       "     objective_loss_function=<function categorical_crossentropy at 0x7f91942f2e60>,\n",
       "     on_batch_finished=[],\n",
       "     on_epoch_finished=[<nolearn.lasagne.handlers.PrintLog instance at 0x7f91a5cbcb90>],\n",
       "     on_training_finished=[],\n",
       "     on_training_started=[<nolearn.lasagne.handlers.PrintLayerInfo instance at 0x7f91a55adcb0>],\n",
       "     output_nonlinearity=<function softmax at 0x7f91a821d9b0>,\n",
       "     output_num_units=10, regression=False,\n",
       "     train_split=<nolearn.lasagne.base.TrainSplit object at 0x7f9194248a90>,\n",
       "     update=<function nesterov_momentum at 0x7f91942f9050>,\n",
       "     update_learning_rate=0.0001, update_momentum=0.9,\n",
       "     use_label_encoder=False, verbose=1,\n",
       "     y_tensor_type=TensorType(int32, vector))"
      ]
     },
     "execution_count": 36,
     "metadata": {},
     "output_type": "execute_result"
    }
   ],
   "source": [
    "# Train the network\n",
    "net1.fit(train, target)"
   ]
  },
  {
   "cell_type": "code",
   "execution_count": 11,
   "metadata": {
    "collapsed": false
   },
   "outputs": [
    {
     "name": "stdout",
     "output_type": "stream",
     "text": [
      "# Neural Network with 1739428 learnable parameters\n",
      "\n",
      "## Layer information\n",
      "\n",
      "  #  name     size\n",
      "---  -------  --------\n",
      "  0  input    1x28x28\n",
      "  1  conv1    7x26x26\n",
      "  2  pool1    7x13x13\n",
      "  3  conv2    12x12x12\n",
      "  4  hidden3  1000\n",
      "  5  output   10\n",
      "\n",
      "  epoch    train loss    valid loss    train/val    valid acc  dur\n",
      "-------  ------------  ------------  -----------  -----------  -----\n",
      "      1       \u001b[36m1.27046\u001b[0m       \u001b[32m0.44202\u001b[0m      2.87422      0.87612  8.63s\n",
      "      2       \u001b[36m0.33185\u001b[0m       \u001b[32m0.30950\u001b[0m      1.07221      0.91039  8.28s\n",
      "      3       \u001b[36m0.23526\u001b[0m       \u001b[32m0.25040\u001b[0m      0.93955      0.92696  8.37s\n",
      "      4       \u001b[36m0.18590\u001b[0m       \u001b[32m0.21659\u001b[0m      0.85832      0.93619  8.54s\n",
      "      5       \u001b[36m0.15505\u001b[0m       \u001b[32m0.19585\u001b[0m      0.79171      0.94407  8.52s\n",
      "      6       \u001b[36m0.13326\u001b[0m       \u001b[32m0.18015\u001b[0m      0.73975      0.94833  8.45s\n",
      "      7       \u001b[36m0.11669\u001b[0m       \u001b[32m0.16907\u001b[0m      0.69015      0.95176  8.24s\n",
      "      8       \u001b[36m0.10355\u001b[0m       \u001b[32m0.16054\u001b[0m      0.64501      0.95436  8.43s\n",
      "      9       \u001b[36m0.09284\u001b[0m       \u001b[32m0.15398\u001b[0m      0.60293      0.95602  8.23s\n",
      "     10       \u001b[36m0.08393\u001b[0m       \u001b[32m0.14867\u001b[0m      0.56453      0.95685  8.29s\n",
      "     11       \u001b[36m0.07615\u001b[0m       \u001b[32m0.14427\u001b[0m      0.52781      0.95768  8.36s\n",
      "     12       \u001b[36m0.06933\u001b[0m       \u001b[32m0.14051\u001b[0m      0.49344      0.95839  8.75s\n",
      "     13       \u001b[36m0.06330\u001b[0m       \u001b[32m0.13744\u001b[0m      0.46055      0.95963  8.60s\n",
      "     14       \u001b[36m0.05791\u001b[0m       \u001b[32m0.13495\u001b[0m      0.42915      0.96082  8.42s\n",
      "     15       \u001b[36m0.05306\u001b[0m       \u001b[32m0.13284\u001b[0m      0.39944      0.96236  8.54s\n",
      "     16       \u001b[36m0.04865\u001b[0m       \u001b[32m0.13122\u001b[0m      0.37073      0.96330  8.52s\n",
      "     17       \u001b[36m0.04463\u001b[0m       \u001b[32m0.12986\u001b[0m      0.34368      0.96354  8.55s\n",
      "     18       \u001b[36m0.04102\u001b[0m       \u001b[32m0.12867\u001b[0m      0.31882      0.96366  8.63s\n",
      "     19       \u001b[36m0.03774\u001b[0m       \u001b[32m0.12783\u001b[0m      0.29522      0.96460  8.98s\n",
      "     20       \u001b[36m0.03471\u001b[0m       \u001b[32m0.12706\u001b[0m      0.27314      0.96460  8.98s\n",
      "     21       \u001b[36m0.03193\u001b[0m       \u001b[32m0.12621\u001b[0m      0.25303      0.96543  8.34s\n",
      "     22       \u001b[36m0.02937\u001b[0m       \u001b[32m0.12561\u001b[0m      0.23380      0.96591  8.42s\n",
      "     23       \u001b[36m0.02702\u001b[0m       \u001b[32m0.12532\u001b[0m      0.21563      0.96602  8.23s\n",
      "     24       \u001b[36m0.02486\u001b[0m       \u001b[32m0.12502\u001b[0m      0.19885      0.96685  8.41s\n",
      "     25       \u001b[36m0.02289\u001b[0m       \u001b[32m0.12488\u001b[0m      0.18329      0.96721  8.37s\n",
      "     26       \u001b[36m0.02105\u001b[0m       \u001b[32m0.12481\u001b[0m      0.16866      0.96721  8.22s\n",
      "     27       \u001b[36m0.01936\u001b[0m       \u001b[32m0.12475\u001b[0m      0.15516      0.96768  8.39s\n",
      "     28       \u001b[36m0.01781\u001b[0m       0.12497      0.14250      0.96816  8.45s\n",
      "     29       \u001b[36m0.01635\u001b[0m       0.12517      0.13058      0.96839  8.32s\n",
      "     30       \u001b[36m0.01501\u001b[0m       0.12552      0.11955      0.96839  9.05s\n",
      "     31       \u001b[36m0.01377\u001b[0m       0.12590      0.10934      0.96839  9.24s\n",
      "     32       \u001b[36m0.01263\u001b[0m       0.12631      0.10000      0.96863  8.64s\n",
      "     33       \u001b[36m0.01157\u001b[0m       0.12672      0.09132      0.96898  8.50s\n",
      "     34       \u001b[36m0.01061\u001b[0m       0.12713      0.08346      0.96969  8.67s\n",
      "     35       \u001b[36m0.00973\u001b[0m       0.12775      0.07617      0.96993  8.34s\n",
      "     36       \u001b[36m0.00894\u001b[0m       0.12821      0.06971      0.96993  8.27s\n",
      "     37       \u001b[36m0.00822\u001b[0m       0.12877      0.06385      0.96981  8.33s\n",
      "     38       \u001b[36m0.00758\u001b[0m       0.12933      0.05859      0.97005  8.56s\n",
      "     39       \u001b[36m0.00699\u001b[0m       0.12981      0.05384      0.97005  8.44s\n",
      "     40       \u001b[36m0.00646\u001b[0m       0.13033      0.04955      0.97029  8.59s\n",
      "     41       \u001b[36m0.00598\u001b[0m       0.13083      0.04571      0.97064  8.56s\n",
      "     42       \u001b[36m0.00554\u001b[0m       0.13132      0.04218      0.97052  8.61s\n",
      "     43       \u001b[36m0.00515\u001b[0m       0.13178      0.03907      0.97052  8.42s\n",
      "     44       \u001b[36m0.00479\u001b[0m       0.13223      0.03623      0.97040  8.68s\n",
      "     45       \u001b[36m0.00447\u001b[0m       0.13268      0.03368      0.97064  8.85s\n",
      "     46       \u001b[36m0.00418\u001b[0m       0.13311      0.03137      0.97076  8.89s\n",
      "     47       \u001b[36m0.00391\u001b[0m       0.13357      0.02925      0.97088  8.54s\n",
      "     48       \u001b[36m0.00366\u001b[0m       0.13400      0.02730      0.97100  8.88s\n",
      "     49       \u001b[36m0.00343\u001b[0m       0.13440      0.02555      0.97111  8.79s\n",
      "     50       \u001b[36m0.00323\u001b[0m       0.13479      0.02396      0.97111  8.69s\n",
      "     51       \u001b[36m0.00305\u001b[0m       0.13518      0.02253      0.97111  8.62s\n",
      "     52       \u001b[36m0.00288\u001b[0m       0.13555      0.02124      0.97111  8.62s\n",
      "     53       \u001b[36m0.00273\u001b[0m       0.13590      0.02008      0.97135  8.68s\n",
      "     54       \u001b[36m0.00259\u001b[0m       0.13626      0.01904      0.97135  8.83s\n",
      "     55       \u001b[36m0.00247\u001b[0m       0.13659      0.01809      0.97111  8.49s\n"
     ]
    }
   ],
   "source": [
    "\n",
    "def CNN(n_epochs):\n",
    "    net1 = NeuralNet(\n",
    "        layers=[\n",
    "        ('input', layers.InputLayer),\n",
    "        ('conv1', layers.Conv2DLayer),      #Convolutional layer.  Params defined below\n",
    "        ('pool1', layers.MaxPool2DLayer),   # Like downsampling, for execution speed\n",
    "        ('conv2', layers.Conv2DLayer),\n",
    "        ('hidden3', layers.DenseLayer),\n",
    "        ('output', layers.DenseLayer),\n",
    "        ],\n",
    "\n",
    "    input_shape=(None, 1, 28, 28),\n",
    "    conv1_num_filters=7, \n",
    "    conv1_filter_size=(3, 3), \n",
    "    conv1_nonlinearity=lasagne.nonlinearities.rectify,\n",
    "        \n",
    "    pool1_pool_size=(2, 2),\n",
    "        \n",
    "    conv2_num_filters=12, \n",
    "    conv2_filter_size=(2, 2),    \n",
    "    conv2_nonlinearity=lasagne.nonlinearities.rectify,\n",
    "        \n",
    "    hidden3_num_units=1000,\n",
    "    output_num_units=10, \n",
    "    output_nonlinearity=lasagne.nonlinearities.softmax,\n",
    "\n",
    "    update_learning_rate=0.0001,\n",
    "    update_momentum=0.9,\n",
    "\n",
    "    max_epochs=n_epochs,\n",
    "    verbose=1,\n",
    "    )\n",
    "    return net1\n",
    "\n",
    "cnn = CNN(55).fit(train,target) # train the CNN model for 15 epochs"
   ]
  },
  {
   "cell_type": "code",
   "execution_count": 12,
   "metadata": {
    "collapsed": true
   },
   "outputs": [],
   "source": [
    "\n",
    "# use the NN model to classify test data\n",
    "pred = cnn.predict(test)\n",
    "\n",
    "# save results\n",
    "np.savetxt('output/submission_lasagne_cnn.csv', np.c_[range(1,len(test)+1),pred], delimiter=',', header = 'ImageId,Label', comments = '', fmt='%d')"
   ]
  },
  {
   "cell_type": "code",
   "execution_count": null,
   "metadata": {
    "collapsed": true
   },
   "outputs": [],
   "source": []
  }
 ],
 "metadata": {
  "kernelspec": {
   "display_name": "Python 2",
   "language": "python",
   "name": "python2"
  },
  "language_info": {
   "codemirror_mode": {
    "name": "ipython",
    "version": 2
   },
   "file_extension": ".py",
   "mimetype": "text/x-python",
   "name": "python",
   "nbconvert_exporter": "python",
   "pygments_lexer": "ipython2",
   "version": "2.7.11"
  }
 },
 "nbformat": 4,
 "nbformat_minor": 0
}
