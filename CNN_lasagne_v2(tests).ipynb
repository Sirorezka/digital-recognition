{
 "cells": [
  {
   "cell_type": "markdown",
   "metadata": {},
   "source": [
    "## Lasagne Neural Network\n",
    "\n",
    "sources:<br>\n",
    "http://yann.lecun.com/exdb/mnist/  <br>\n",
    "https://www.kaggle.com/kobakhit/digit-recognizer/digit-recognizer-in-python-using-cnn <br>\n",
    "http://lasagne.readthedocs.org/en/latest/user/tutorial.html#run-the-mnist-example <br>\n",
    "http://nbviewer.jupyter.org/github/dnouri/nolearn/blob/master/docs/notebooks/CNN_tutorial.ipynb <br>\n"
   ]
  },
  {
   "cell_type": "code",
   "execution_count": 1,
   "metadata": {
    "collapsed": false
   },
   "outputs": [
    {
     "name": "stderr",
     "output_type": "stream",
     "text": [
      "/home/sirorezka/anaconda2/envs/py27/lib/python2.7/site-packages/theano/tensor/signal/downsample.py:5: UserWarning: downsample module has been moved to the pool module.\n",
      "  warnings.warn(\"downsample module has been moved to the pool module.\")\n"
     ]
    }
   ],
   "source": [
    "import os\n",
    "\n",
    "import matplotlib.pyplot as plt\n",
    "%matplotlib inline\n",
    "\n",
    "from lasagne.layers import DenseLayer\n",
    "from lasagne.layers import InputLayer\n",
    "from lasagne.layers import DropoutLayer\n",
    "from lasagne.layers import Conv2DLayer\n",
    "from lasagne.layers import MaxPool2DLayer\n",
    "from lasagne.nonlinearities import softmax\n",
    "from lasagne.updates import adam\n",
    "from lasagne.layers import get_all_params\n",
    "\n",
    "from nolearn.lasagne import NeuralNet\n",
    "from nolearn.lasagne import TrainSplit\n",
    "from nolearn.lasagne import objective\n",
    "\n",
    "import numpy as np\n",
    "import pandas as pd"
   ]
  },
  {
   "cell_type": "code",
   "execution_count": 2,
   "metadata": {
    "collapsed": true
   },
   "outputs": [],
   "source": [
    "def load_mnist(path):\n",
    "    X = []\n",
    "    y = []\n",
    "    with open(path, 'rb') as f:\n",
    "        next(f)  # skip header\n",
    "        for line in f:\n",
    "            yi, xi = line.split(',', 1)\n",
    "            y.append(yi)\n",
    "            X.append(xi.split(','))\n",
    "\n",
    "    # Theano works with fp32 precision\n",
    "    X = np.array(X).astype(np.float32)\n",
    "    y = np.array(y).astype(np.int32)\n",
    "\n",
    "    # apply some very simple normalization to the data\n",
    "    X -= X.mean()\n",
    "    X /= X.std()\n",
    "\n",
    "    # For convolutional layers, the default shape of data is bc01,\n",
    "    # i.e. batch size x color channels x image dimension 1 x image dimension 2.\n",
    "    # Therefore, we reshape the X data to -1, 1, 28, 28.\n",
    "    X = X.reshape(\n",
    "        -1,  # number of samples, -1 makes it so that this number is determined automatically\n",
    "        1,   # 1 color channel, since images are only black and white\n",
    "        28,  # first image dimension (vertical)\n",
    "        28,  # second image dimension (horizontal)\n",
    "    )\n",
    "\n",
    "    return X, y"
   ]
  },
  {
   "cell_type": "code",
   "execution_count": 3,
   "metadata": {
    "collapsed": false
   },
   "outputs": [],
   "source": [
    "# here you should enter the path to your MNIST data\n",
    "path =  'input/train.csv'\n",
    "X, y = load_mnist(path)\n"
   ]
  },
  {
   "cell_type": "code",
   "execution_count": 4,
   "metadata": {
    "collapsed": false
   },
   "outputs": [
    {
     "data": {
      "image/png": "[encoded data removed]",
      "text/plain": [
       "<matplotlib.figure.Figure at 0x7f8cf5dfecd0>"
      ]
     },
     "metadata": {},
     "output_type": "display_data"
    }
   ],
   "source": [
    "figs, axes = plt.subplots(4, 4, figsize=(6, 6))\n",
    "for i in range(4):\n",
    "    for j in range(4):\n",
    "        axes[i, j].imshow(-X[i + 4 * j].reshape(28, 28), cmap='gray', interpolation='none')\n",
    "        axes[i, j].set_xticks([])\n",
    "        axes[i, j].set_yticks([])\n",
    "        axes[i, j].set_title(\"Label: {}\".format(y[i + 4 * j]))\n",
    "        axes[i, j].axis('off')"
   ]
  },
  {
   "cell_type": "code",
   "execution_count": 5,
   "metadata": {
    "collapsed": false
   },
   "outputs": [],
   "source": [
    "layers0 = [\n",
    "    # layer dealing with the input data\n",
    "    (InputLayer, {'shape': (None, X.shape[1], X.shape[2], X.shape[3])}),\n",
    "\n",
    "    # first stage of our convolutional layers\n",
    "    (Conv2DLayer, {'num_filters': 96, 'filter_size': 5}),\n",
    "    (Conv2DLayer, {'num_filters': 96, 'filter_size': 3}),\n",
    "    (Conv2DLayer, {'num_filters': 96, 'filter_size': 3}),\n",
    "    (Conv2DLayer, {'num_filters': 96, 'filter_size': 3}),\n",
    "    (Conv2DLayer, {'num_filters': 96, 'filter_size': 3}),\n",
    "    (MaxPool2DLayer, {'pool_size': 2}),\n",
    "\n",
    "    # second stage of our convolutional layers\n",
    "    (Conv2DLayer, {'num_filters': 128, 'filter_size': 3}),\n",
    "    (Conv2DLayer, {'num_filters': 128, 'filter_size': 3}),\n",
    "    (Conv2DLayer, {'num_filters': 128, 'filter_size': 3}),\n",
    "    (MaxPool2DLayer, {'pool_size': 2}),\n",
    "\n",
    "    # two dense layers with dropout\n",
    "    (DenseLayer, {'num_units': 64}),\n",
    "    (DropoutLayer, {}),\n",
    "    (DenseLayer, {'num_units': 64}),\n",
    "\n",
    "    # the output layer\n",
    "    (DenseLayer, {'num_units': 10, 'nonlinearity': softmax})\n",
    "]\n"
   ]
  },
  {
   "cell_type": "code",
   "execution_count": 6,
   "metadata": {
    "collapsed": true
   },
   "outputs": [],
   "source": [
    "# Network L2 regulazation\n",
    "\n",
    "def regularization_objective(layers, lambda1=0., lambda2=0., *args, **kwargs):\n",
    "    # default loss\n",
    "    losses = objective(layers, *args, **kwargs)\n",
    "    # get the layers' weights, but only those that should be regularized\n",
    "    # (i.e. not the biases)\n",
    "    weights = get_all_params(layers[-1], regularizable=True)\n",
    "    # sum of absolute weights for L1\n",
    "    sum_abs_weights = sum([abs(w).sum() for w in weights])\n",
    "    # sum of squared weights for L2\n",
    "    sum_squared_weights = sum([(w ** 2).sum() for w in weights])\n",
    "    # add weights to regular loss\n",
    "    losses += lambda1 * sum_abs_weights + lambda2 * sum_squared_weights\n",
    "    return losses"
   ]
  },
  {
   "cell_type": "code",
   "execution_count": null,
   "metadata": {
    "collapsed": false
   },
   "outputs": [],
   "source": [
    "net0 = NeuralNet(\n",
    "    layers=layers0,\n",
    "    max_epochs=10,\n",
    "\n",
    "    update=adam,\n",
    "    update_learning_rate=0.0002,\n",
    "\n",
    "    objective=regularization_objective,\n",
    "    objective_lambda2=0.0025,\n",
    "\n",
    "    train_split=TrainSplit(eval_size=0.25),\n",
    "    verbose=1\n",
    ")\n"
   ]
  },
  {
   "cell_type": "code",
   "execution_count": null,
   "metadata": {
    "collapsed": false
   },
   "outputs": [
    {
     "name": "stdout",
     "output_type": "stream",
     "text": [
      "# Neural Network with 753610 learnable parameters\n",
      "\n",
      "## Layer information\n",
      "\n",
      "  #  name         size\n",
      "---  -----------  --------\n",
      "  0  input0       1x28x28\n",
      "  1  conv2d1      96x24x24\n",
      "  2  conv2d2      96x22x22\n",
      "  3  conv2d3      96x20x20\n",
      "  4  conv2d4      96x18x18\n",
      "  5  conv2d5      96x16x16\n",
      "  6  maxpool2d6   96x8x8\n",
      "  7  conv2d7      128x6x6\n",
      "  8  conv2d8      128x4x4\n",
      "  9  conv2d9      128x2x2\n",
      " 10  maxpool2d10  128x1x1\n",
      " 11  dense11      64\n",
      " 12  dropout12    64\n",
      " 13  dense13      64\n",
      " 14  dense14      10\n",
      "\n"
     ]
    }
   ],
   "source": [
    "net0.fit(X, y)"
   ]
  },
  {
   "cell_type": "code",
   "execution_count": null,
   "metadata": {
    "collapsed": true
   },
   "outputs": [],
   "source": [
    "# For lasagne graphs\n",
    "\n",
    "from nolearn.lasagne.visualize import plot_loss\n",
    "from nolearn.lasagne.visualize import plot_conv_weights\n",
    "from nolearn.lasagne.visualize import plot_conv_activity\n",
    "from nolearn.lasagne.visualize import plot_occlusion"
   ]
  },
  {
   "cell_type": "code",
   "execution_count": null,
   "metadata": {
    "collapsed": false
   },
   "outputs": [],
   "source": [
    "plot_loss(net0)"
   ]
  },
  {
   "cell_type": "code",
   "execution_count": null,
   "metadata": {
    "collapsed": false
   },
   "outputs": [],
   "source": [
    "plot_conv_weights(net0.layers_[1], figsize=(16, 16))\n",
    "\n"
   ]
  },
  {
   "cell_type": "markdown",
   "metadata": {},
   "source": [
    "##### Second NN"
   ]
  },
  {
   "cell_type": "code",
   "execution_count": null,
   "metadata": {
    "collapsed": true
   },
   "outputs": [],
   "source": [
    "layers1 = [\n",
    "    (InputLayer, {'shape': (None, X.shape[1], X.shape[2], X.shape[3])}),\n",
    "\n",
    "    (Conv2DLayer, {'num_filters': 32, 'filter_size': (3, 3)}),\n",
    "    (MaxPool2DLayer, {'pool_size': (2, 2)}),\n",
    "\n",
    "    (Conv2DLayer, {'num_filters': 64, 'filter_size': (3, 3)}),\n",
    "    (Conv2DLayer, {'num_filters': 64, 'filter_size': (3, 3)}),\n",
    "    (MaxPool2DLayer, {'pool_size': (2, 2)}),\n",
    "\n",
    "    (Conv2DLayer, {'num_filters': 96, 'filter_size': (3, 3)}),\n",
    "    (MaxPool2DLayer, {'pool_size': (2, 2)}),\n",
    "\n",
    "    (DenseLayer, {'num_units': 64}),\n",
    "    (DropoutLayer, {}),\n",
    "    (DenseLayer, {'num_units': 64}),\n",
    "\n",
    "    (DenseLayer, {'num_units': 10, 'nonlinearity': softmax}),\n",
    "]"
   ]
  },
  {
   "cell_type": "code",
   "execution_count": null,
   "metadata": {
    "collapsed": true
   },
   "outputs": [],
   "source": [
    "net1 = NeuralNet(\n",
    "    layers=layers1,\n",
    "    max_epochs=10,\n",
    "    \n",
    "    update=adam,\n",
    "    update_learning_rate=0.0002,\n",
    "    \n",
    "    verbose=1\n",
    ")\n",
    "\n"
   ]
  },
  {
   "cell_type": "code",
   "execution_count": null,
   "metadata": {
    "collapsed": false
   },
   "outputs": [],
   "source": [
    "net1.fit(X, y)"
   ]
  },
  {
   "cell_type": "markdown",
   "metadata": {},
   "source": [
    "##### Third NN"
   ]
  },
  {
   "cell_type": "code",
   "execution_count": null,
   "metadata": {
    "collapsed": true
   },
   "outputs": [],
   "source": [
    "layers2 = [\n",
    "    (InputLayer, {'shape': (None, X.shape[1], X.shape[2], X.shape[3])}),\n",
    "\n",
    "    (Conv2DLayer, {'num_filters': 32, 'filter_size': (3, 3)}),\n",
    "    (Conv2DLayer, {'num_filters': 32, 'filter_size': (3, 3)}),\n",
    "    (Conv2DLayer, {'num_filters': 32, 'filter_size': (3, 3)}),\n",
    "    (Conv2DLayer, {'num_filters': 32, 'filter_size': (3, 3)}),\n",
    "    (Conv2DLayer, {'num_filters': 32, 'filter_size': (3, 3)}),\n",
    "    (Conv2DLayer, {'num_filters': 64, 'filter_size': (3, 3)}),\n",
    "    (Conv2DLayer, {'num_filters': 64, 'filter_size': (3, 3)}),\n",
    "    (Conv2DLayer, {'num_filters': 64, 'filter_size': (3, 3)}),\n",
    "    (Conv2DLayer, {'num_filters': 64, 'filter_size': (3, 3)}),\n",
    "    (Conv2DLayer, {'num_filters': 64, 'filter_size': (3, 3)}),\n",
    "    (MaxPool2DLayer, {'pool_size': (2, 2)}),\n",
    "\n",
    "    (DenseLayer, {'num_units': 64}),\n",
    "    (DropoutLayer, {}),\n",
    "    (DenseLayer, {'num_units': 64}),\n",
    "\n",
    "    (DenseLayer, {'num_units': 10, 'nonlinearity': softmax}),\n",
    "]\n"
   ]
  },
  {
   "cell_type": "code",
   "execution_count": null,
   "metadata": {
    "collapsed": true
   },
   "outputs": [],
   "source": [
    "net2 = NeuralNet(\n",
    "    layers=layers2,\n",
    "    max_epochs=10,\n",
    "    \n",
    "    update=adam,\n",
    "    update_learning_rate=0.0002,\n",
    "    \n",
    "    verbose=1\n",
    ")"
   ]
  },
  {
   "cell_type": "code",
   "execution_count": null,
   "metadata": {
    "collapsed": true
   },
   "outputs": [],
   "source": [
    "net2.fit(X, y)"
   ]
  },
  {
   "cell_type": "markdown",
   "metadata": {},
   "source": [
    "##### Fourth NN"
   ]
  },
  {
   "cell_type": "code",
   "execution_count": null,
   "metadata": {
    "collapsed": true
   },
   "outputs": [],
   "source": [
    "layers3 = [\n",
    "    (InputLayer, {'shape': (None, X.shape[1], X.shape[2], X.shape[3])}),\n",
    "\n",
    "    (Conv2DLayer, {'num_filters': 32, 'filter_size': (3, 3), 'pad': 1}),\n",
    "    (Conv2DLayer, {'num_filters': 32, 'filter_size': (3, 3), 'pad': 1}),\n",
    "    (MaxPool2DLayer, {'pool_size': (2, 2)}),\n",
    "    (Conv2DLayer, {'num_filters': 32, 'filter_size': (3, 3), 'pad': 1}),\n",
    "    (Conv2DLayer, {'num_filters': 32, 'filter_size': (3, 3), 'pad': 1}),\n",
    "    (MaxPool2DLayer, {'pool_size': (2, 2)}),\n",
    "    (Conv2DLayer, {'num_filters': 64, 'filter_size': (3, 3), 'pad': 1}),\n",
    "    (Conv2DLayer, {'num_filters': 64, 'filter_size': (3, 3), 'pad': 1}),\n",
    "    (MaxPool2DLayer, {'pool_size': (2, 2)}),\n",
    "    (Conv2DLayer, {'num_filters': 64, 'filter_size': (3, 3), 'pad': 1}),\n",
    "    (Conv2DLayer, {'num_filters': 64, 'filter_size': (3, 3), 'pad': 1}),\n",
    "    (MaxPool2DLayer, {'pool_size': (2, 2)}),\n",
    "\n",
    "    (DenseLayer, {'num_units': 64}),\n",
    "    (DropoutLayer, {}),\n",
    "    (DenseLayer, {'num_units': 64}),\n",
    "\n",
    "    (DenseLayer, {'num_units': 10, 'nonlinearity': softmax}),\n",
    "]"
   ]
  },
  {
   "cell_type": "code",
   "execution_count": null,
   "metadata": {
    "collapsed": true
   },
   "outputs": [],
   "source": [
    "net3 = NeuralNet(\n",
    "    layers=layers3,\n",
    "    max_epochs=10,\n",
    "    \n",
    "    update=adam,\n",
    "    update_learning_rate=0.0002,\n",
    "    \n",
    "    verbose=1\n",
    ")"
   ]
  },
  {
   "cell_type": "code",
   "execution_count": null,
   "metadata": {
    "collapsed": true
   },
   "outputs": [],
   "source": [
    "net3.fit(X, y)"
   ]
  },
  {
   "cell_type": "markdown",
   "metadata": {},
   "source": [
    "##### Fifth NN"
   ]
  },
  {
   "cell_type": "code",
   "execution_count": null,
   "metadata": {
    "collapsed": true
   },
   "outputs": [],
   "source": [
    "layers4 = [\n",
    "    (InputLayer, {'shape': (None, X.shape[1], X.shape[2], X.shape[3])}),\n",
    "\n",
    "    (Conv2DLayer, {'num_filters': 32, 'filter_size': (3, 3), 'pad': 1}),\n",
    "    (Conv2DLayer, {'num_filters': 32, 'filter_size': (3, 3), 'pad': 1}),\n",
    "    (Conv2DLayer, {'num_filters': 32, 'filter_size': (3, 3), 'pad': 1}),\n",
    "    (Conv2DLayer, {'num_filters': 32, 'filter_size': (3, 3), 'pad': 1}),\n",
    "    (Conv2DLayer, {'num_filters': 32, 'filter_size': (3, 3), 'pad': 1}),\n",
    "    (Conv2DLayer, {'num_filters': 32, 'filter_size': (3, 3), 'pad': 1}),\n",
    "    (Conv2DLayer, {'num_filters': 32, 'filter_size': (3, 3), 'pad': 1}),\n",
    "    (MaxPool2DLayer, {'pool_size': (2, 2)}),\n",
    "\n",
    "    (Conv2DLayer, {'num_filters': 64, 'filter_size': (3, 3), 'pad': 1}),\n",
    "    (Conv2DLayer, {'num_filters': 64, 'filter_size': (3, 3), 'pad': 1}),\n",
    "    (Conv2DLayer, {'num_filters': 64, 'filter_size': (3, 3), 'pad': 1}),\n",
    "    (MaxPool2DLayer, {'pool_size': (2, 2)}),\n",
    "\n",
    "    (DenseLayer, {'num_units': 64}),\n",
    "    (DropoutLayer, {}),\n",
    "    (DenseLayer, {'num_units': 64}),\n",
    "\n",
    "    (DenseLayer, {'num_units': 10, 'nonlinearity': softmax}),\n",
    "]"
   ]
  },
  {
   "cell_type": "code",
   "execution_count": null,
   "metadata": {
    "collapsed": true
   },
   "outputs": [],
   "source": [
    "net4 = NeuralNet(\n",
    "    layers=layers4,\n",
    "    max_epochs=10,\n",
    "    \n",
    "    update=adam,\n",
    "    update_learning_rate=0.0002,\n",
    "    \n",
    "    verbose=1\n",
    ")"
   ]
  },
  {
   "cell_type": "code",
   "execution_count": null,
   "metadata": {
    "collapsed": true
   },
   "outputs": [],
   "source": [
    "net4.fit(X, y)"
   ]
  },
  {
   "cell_type": "code",
   "execution_count": null,
   "metadata": {
    "collapsed": true
   },
   "outputs": [],
   "source": []
  }
 ],
 "metadata": {
  "kernelspec": {
   "display_name": "Python 2",
   "language": "python",
   "name": "python2"
  },
  "language_info": {
   "codemirror_mode": {
    "name": "ipython",
    "version": 2
   },
   "file_extension": ".py",
   "mimetype": "text/x-python",
   "name": "python",
   "nbconvert_exporter": "python",
   "pygments_lexer": "ipython2",
   "version": "2.7.11"
  }
 },
 "nbformat": 4,
 "nbformat_minor": 0
}
